{
 "cells": [
  {
   "cell_type": "code",
   "execution_count": 88,
   "id": "initial_id",
   "metadata": {
    "collapsed": true,
    "ExecuteTime": {
     "end_time": "2023-12-26T10:19:41.187334460Z",
     "start_time": "2023-12-26T10:19:40.330471187Z"
    }
   },
   "outputs": [
    {
     "data": {
      "text/plain": "    Id  MSSubClass MSZoning  LotFrontage  LotArea Street Alley LotShape  \\\n0    1          60       RL         65.0     8450   Pave   NaN      Reg   \n1    2          20       RL         80.0     9600   Pave   NaN      Reg   \n2    3          60       RL         68.0    11250   Pave   NaN      IR1   \n3    4          70       RL         60.0     9550   Pave   NaN      IR1   \n4    5          60       RL         84.0    14260   Pave   NaN      IR1   \n5    6          50       RL         85.0    14115   Pave   NaN      IR1   \n6    7          20       RL         75.0    10084   Pave   NaN      Reg   \n7    8          60       RL          NaN    10382   Pave   NaN      IR1   \n8    9          50       RM         51.0     6120   Pave   NaN      Reg   \n9   10         190       RL         50.0     7420   Pave   NaN      Reg   \n10  11          20       RL         70.0    11200   Pave   NaN      Reg   \n11  12          60       RL         85.0    11924   Pave   NaN      IR1   \n12  13          20       RL          NaN    12968   Pave   NaN      IR2   \n13  14          20       RL         91.0    10652   Pave   NaN      IR1   \n14  15          20       RL          NaN    10920   Pave   NaN      IR1   \n15  16          45       RM         51.0     6120   Pave   NaN      Reg   \n16  17          20       RL          NaN    11241   Pave   NaN      IR1   \n17  18          90       RL         72.0    10791   Pave   NaN      Reg   \n18  19          20       RL         66.0    13695   Pave   NaN      Reg   \n19  20          20       RL         70.0     7560   Pave   NaN      Reg   \n\n   LandContour Utilities  ... PoolArea PoolQC  Fence MiscFeature MiscVal  \\\n0          Lvl    AllPub  ...        0    NaN    NaN         NaN       0   \n1          Lvl    AllPub  ...        0    NaN    NaN         NaN       0   \n2          Lvl    AllPub  ...        0    NaN    NaN         NaN       0   \n3          Lvl    AllPub  ...        0    NaN    NaN         NaN       0   \n4          Lvl    AllPub  ...        0    NaN    NaN         NaN       0   \n5          Lvl    AllPub  ...        0    NaN  MnPrv        Shed     700   \n6          Lvl    AllPub  ...        0    NaN    NaN         NaN       0   \n7          Lvl    AllPub  ...        0    NaN    NaN        Shed     350   \n8          Lvl    AllPub  ...        0    NaN    NaN         NaN       0   \n9          Lvl    AllPub  ...        0    NaN    NaN         NaN       0   \n10         Lvl    AllPub  ...        0    NaN    NaN         NaN       0   \n11         Lvl    AllPub  ...        0    NaN    NaN         NaN       0   \n12         Lvl    AllPub  ...        0    NaN    NaN         NaN       0   \n13         Lvl    AllPub  ...        0    NaN    NaN         NaN       0   \n14         Lvl    AllPub  ...        0    NaN   GdWo         NaN       0   \n15         Lvl    AllPub  ...        0    NaN  GdPrv         NaN       0   \n16         Lvl    AllPub  ...        0    NaN    NaN        Shed     700   \n17         Lvl    AllPub  ...        0    NaN    NaN        Shed     500   \n18         Lvl    AllPub  ...        0    NaN    NaN         NaN       0   \n19         Lvl    AllPub  ...        0    NaN  MnPrv         NaN       0   \n\n   MoSold YrSold  SaleType  SaleCondition  SalePrice  \n0       2   2008        WD         Normal     208500  \n1       5   2007        WD         Normal     181500  \n2       9   2008        WD         Normal     223500  \n3       2   2006        WD        Abnorml     140000  \n4      12   2008        WD         Normal     250000  \n5      10   2009        WD         Normal     143000  \n6       8   2007        WD         Normal     307000  \n7      11   2009        WD         Normal     200000  \n8       4   2008        WD        Abnorml     129900  \n9       1   2008        WD         Normal     118000  \n10      2   2008        WD         Normal     129500  \n11      7   2006       New        Partial     345000  \n12      9   2008        WD         Normal     144000  \n13      8   2007       New        Partial     279500  \n14      5   2008        WD         Normal     157000  \n15      7   2007        WD         Normal     132000  \n16      3   2010        WD         Normal     149000  \n17     10   2006        WD         Normal      90000  \n18      6   2008        WD         Normal     159000  \n19      5   2009       COD        Abnorml     139000  \n\n[20 rows x 81 columns]",
      "text/html": "<div>\n<style scoped>\n    .dataframe tbody tr th:only-of-type {\n        vertical-align: middle;\n    }\n\n    .dataframe tbody tr th {\n        vertical-align: top;\n    }\n\n    .dataframe thead th {\n        text-align: right;\n    }\n</style>\n<table border=\"1\" class=\"dataframe\">\n  <thead>\n    <tr style=\"text-align: right;\">\n      <th></th>\n      <th>Id</th>\n      <th>MSSubClass</th>\n      <th>MSZoning</th>\n      <th>LotFrontage</th>\n      <th>LotArea</th>\n      <th>Street</th>\n      <th>Alley</th>\n      <th>LotShape</th>\n      <th>LandContour</th>\n      <th>Utilities</th>\n      <th>...</th>\n      <th>PoolArea</th>\n      <th>PoolQC</th>\n      <th>Fence</th>\n      <th>MiscFeature</th>\n      <th>MiscVal</th>\n      <th>MoSold</th>\n      <th>YrSold</th>\n      <th>SaleType</th>\n      <th>SaleCondition</th>\n      <th>SalePrice</th>\n    </tr>\n  </thead>\n  <tbody>\n    <tr>\n      <th>0</th>\n      <td>1</td>\n      <td>60</td>\n      <td>RL</td>\n      <td>65.0</td>\n      <td>8450</td>\n      <td>Pave</td>\n      <td>NaN</td>\n      <td>Reg</td>\n      <td>Lvl</td>\n      <td>AllPub</td>\n      <td>...</td>\n      <td>0</td>\n      <td>NaN</td>\n      <td>NaN</td>\n      <td>NaN</td>\n      <td>0</td>\n      <td>2</td>\n      <td>2008</td>\n      <td>WD</td>\n      <td>Normal</td>\n      <td>208500</td>\n    </tr>\n    <tr>\n      <th>1</th>\n      <td>2</td>\n      <td>20</td>\n      <td>RL</td>\n      <td>80.0</td>\n      <td>9600</td>\n      <td>Pave</td>\n      <td>NaN</td>\n      <td>Reg</td>\n      <td>Lvl</td>\n      <td>AllPub</td>\n      <td>...</td>\n      <td>0</td>\n      <td>NaN</td>\n      <td>NaN</td>\n      <td>NaN</td>\n      <td>0</td>\n      <td>5</td>\n      <td>2007</td>\n      <td>WD</td>\n      <td>Normal</td>\n      <td>181500</td>\n    </tr>\n    <tr>\n      <th>2</th>\n      <td>3</td>\n      <td>60</td>\n      <td>RL</td>\n      <td>68.0</td>\n      <td>11250</td>\n      <td>Pave</td>\n      <td>NaN</td>\n      <td>IR1</td>\n      <td>Lvl</td>\n      <td>AllPub</td>\n      <td>...</td>\n      <td>0</td>\n      <td>NaN</td>\n      <td>NaN</td>\n      <td>NaN</td>\n      <td>0</td>\n      <td>9</td>\n      <td>2008</td>\n      <td>WD</td>\n      <td>Normal</td>\n      <td>223500</td>\n    </tr>\n    <tr>\n      <th>3</th>\n      <td>4</td>\n      <td>70</td>\n      <td>RL</td>\n      <td>60.0</td>\n      <td>9550</td>\n      <td>Pave</td>\n      <td>NaN</td>\n      <td>IR1</td>\n      <td>Lvl</td>\n      <td>AllPub</td>\n      <td>...</td>\n      <td>0</td>\n      <td>NaN</td>\n      <td>NaN</td>\n      <td>NaN</td>\n      <td>0</td>\n      <td>2</td>\n      <td>2006</td>\n      <td>WD</td>\n      <td>Abnorml</td>\n      <td>140000</td>\n    </tr>\n    <tr>\n      <th>4</th>\n      <td>5</td>\n      <td>60</td>\n      <td>RL</td>\n      <td>84.0</td>\n      <td>14260</td>\n      <td>Pave</td>\n      <td>NaN</td>\n      <td>IR1</td>\n      <td>Lvl</td>\n      <td>AllPub</td>\n      <td>...</td>\n      <td>0</td>\n      <td>NaN</td>\n      <td>NaN</td>\n      <td>NaN</td>\n      <td>0</td>\n      <td>12</td>\n      <td>2008</td>\n      <td>WD</td>\n      <td>Normal</td>\n      <td>250000</td>\n    </tr>\n    <tr>\n      <th>5</th>\n      <td>6</td>\n      <td>50</td>\n      <td>RL</td>\n      <td>85.0</td>\n      <td>14115</td>\n      <td>Pave</td>\n      <td>NaN</td>\n      <td>IR1</td>\n      <td>Lvl</td>\n      <td>AllPub</td>\n      <td>...</td>\n      <td>0</td>\n      <td>NaN</td>\n      <td>MnPrv</td>\n      <td>Shed</td>\n      <td>700</td>\n      <td>10</td>\n      <td>2009</td>\n      <td>WD</td>\n      <td>Normal</td>\n      <td>143000</td>\n    </tr>\n    <tr>\n      <th>6</th>\n      <td>7</td>\n      <td>20</td>\n      <td>RL</td>\n      <td>75.0</td>\n      <td>10084</td>\n      <td>Pave</td>\n      <td>NaN</td>\n      <td>Reg</td>\n      <td>Lvl</td>\n      <td>AllPub</td>\n      <td>...</td>\n      <td>0</td>\n      <td>NaN</td>\n      <td>NaN</td>\n      <td>NaN</td>\n      <td>0</td>\n      <td>8</td>\n      <td>2007</td>\n      <td>WD</td>\n      <td>Normal</td>\n      <td>307000</td>\n    </tr>\n    <tr>\n      <th>7</th>\n      <td>8</td>\n      <td>60</td>\n      <td>RL</td>\n      <td>NaN</td>\n      <td>10382</td>\n      <td>Pave</td>\n      <td>NaN</td>\n      <td>IR1</td>\n      <td>Lvl</td>\n      <td>AllPub</td>\n      <td>...</td>\n      <td>0</td>\n      <td>NaN</td>\n      <td>NaN</td>\n      <td>Shed</td>\n      <td>350</td>\n      <td>11</td>\n      <td>2009</td>\n      <td>WD</td>\n      <td>Normal</td>\n      <td>200000</td>\n    </tr>\n    <tr>\n      <th>8</th>\n      <td>9</td>\n      <td>50</td>\n      <td>RM</td>\n      <td>51.0</td>\n      <td>6120</td>\n      <td>Pave</td>\n      <td>NaN</td>\n      <td>Reg</td>\n      <td>Lvl</td>\n      <td>AllPub</td>\n      <td>...</td>\n      <td>0</td>\n      <td>NaN</td>\n      <td>NaN</td>\n      <td>NaN</td>\n      <td>0</td>\n      <td>4</td>\n      <td>2008</td>\n      <td>WD</td>\n      <td>Abnorml</td>\n      <td>129900</td>\n    </tr>\n    <tr>\n      <th>9</th>\n      <td>10</td>\n      <td>190</td>\n      <td>RL</td>\n      <td>50.0</td>\n      <td>7420</td>\n      <td>Pave</td>\n      <td>NaN</td>\n      <td>Reg</td>\n      <td>Lvl</td>\n      <td>AllPub</td>\n      <td>...</td>\n      <td>0</td>\n      <td>NaN</td>\n      <td>NaN</td>\n      <td>NaN</td>\n      <td>0</td>\n      <td>1</td>\n      <td>2008</td>\n      <td>WD</td>\n      <td>Normal</td>\n      <td>118000</td>\n    </tr>\n    <tr>\n      <th>10</th>\n      <td>11</td>\n      <td>20</td>\n      <td>RL</td>\n      <td>70.0</td>\n      <td>11200</td>\n      <td>Pave</td>\n      <td>NaN</td>\n      <td>Reg</td>\n      <td>Lvl</td>\n      <td>AllPub</td>\n      <td>...</td>\n      <td>0</td>\n      <td>NaN</td>\n      <td>NaN</td>\n      <td>NaN</td>\n      <td>0</td>\n      <td>2</td>\n      <td>2008</td>\n      <td>WD</td>\n      <td>Normal</td>\n      <td>129500</td>\n    </tr>\n    <tr>\n      <th>11</th>\n      <td>12</td>\n      <td>60</td>\n      <td>RL</td>\n      <td>85.0</td>\n      <td>11924</td>\n      <td>Pave</td>\n      <td>NaN</td>\n      <td>IR1</td>\n      <td>Lvl</td>\n      <td>AllPub</td>\n      <td>...</td>\n      <td>0</td>\n      <td>NaN</td>\n      <td>NaN</td>\n      <td>NaN</td>\n      <td>0</td>\n      <td>7</td>\n      <td>2006</td>\n      <td>New</td>\n      <td>Partial</td>\n      <td>345000</td>\n    </tr>\n    <tr>\n      <th>12</th>\n      <td>13</td>\n      <td>20</td>\n      <td>RL</td>\n      <td>NaN</td>\n      <td>12968</td>\n      <td>Pave</td>\n      <td>NaN</td>\n      <td>IR2</td>\n      <td>Lvl</td>\n      <td>AllPub</td>\n      <td>...</td>\n      <td>0</td>\n      <td>NaN</td>\n      <td>NaN</td>\n      <td>NaN</td>\n      <td>0</td>\n      <td>9</td>\n      <td>2008</td>\n      <td>WD</td>\n      <td>Normal</td>\n      <td>144000</td>\n    </tr>\n    <tr>\n      <th>13</th>\n      <td>14</td>\n      <td>20</td>\n      <td>RL</td>\n      <td>91.0</td>\n      <td>10652</td>\n      <td>Pave</td>\n      <td>NaN</td>\n      <td>IR1</td>\n      <td>Lvl</td>\n      <td>AllPub</td>\n      <td>...</td>\n      <td>0</td>\n      <td>NaN</td>\n      <td>NaN</td>\n      <td>NaN</td>\n      <td>0</td>\n      <td>8</td>\n      <td>2007</td>\n      <td>New</td>\n      <td>Partial</td>\n      <td>279500</td>\n    </tr>\n    <tr>\n      <th>14</th>\n      <td>15</td>\n      <td>20</td>\n      <td>RL</td>\n      <td>NaN</td>\n      <td>10920</td>\n      <td>Pave</td>\n      <td>NaN</td>\n      <td>IR1</td>\n      <td>Lvl</td>\n      <td>AllPub</td>\n      <td>...</td>\n      <td>0</td>\n      <td>NaN</td>\n      <td>GdWo</td>\n      <td>NaN</td>\n      <td>0</td>\n      <td>5</td>\n      <td>2008</td>\n      <td>WD</td>\n      <td>Normal</td>\n      <td>157000</td>\n    </tr>\n    <tr>\n      <th>15</th>\n      <td>16</td>\n      <td>45</td>\n      <td>RM</td>\n      <td>51.0</td>\n      <td>6120</td>\n      <td>Pave</td>\n      <td>NaN</td>\n      <td>Reg</td>\n      <td>Lvl</td>\n      <td>AllPub</td>\n      <td>...</td>\n      <td>0</td>\n      <td>NaN</td>\n      <td>GdPrv</td>\n      <td>NaN</td>\n      <td>0</td>\n      <td>7</td>\n      <td>2007</td>\n      <td>WD</td>\n      <td>Normal</td>\n      <td>132000</td>\n    </tr>\n    <tr>\n      <th>16</th>\n      <td>17</td>\n      <td>20</td>\n      <td>RL</td>\n      <td>NaN</td>\n      <td>11241</td>\n      <td>Pave</td>\n      <td>NaN</td>\n      <td>IR1</td>\n      <td>Lvl</td>\n      <td>AllPub</td>\n      <td>...</td>\n      <td>0</td>\n      <td>NaN</td>\n      <td>NaN</td>\n      <td>Shed</td>\n      <td>700</td>\n      <td>3</td>\n      <td>2010</td>\n      <td>WD</td>\n      <td>Normal</td>\n      <td>149000</td>\n    </tr>\n    <tr>\n      <th>17</th>\n      <td>18</td>\n      <td>90</td>\n      <td>RL</td>\n      <td>72.0</td>\n      <td>10791</td>\n      <td>Pave</td>\n      <td>NaN</td>\n      <td>Reg</td>\n      <td>Lvl</td>\n      <td>AllPub</td>\n      <td>...</td>\n      <td>0</td>\n      <td>NaN</td>\n      <td>NaN</td>\n      <td>Shed</td>\n      <td>500</td>\n      <td>10</td>\n      <td>2006</td>\n      <td>WD</td>\n      <td>Normal</td>\n      <td>90000</td>\n    </tr>\n    <tr>\n      <th>18</th>\n      <td>19</td>\n      <td>20</td>\n      <td>RL</td>\n      <td>66.0</td>\n      <td>13695</td>\n      <td>Pave</td>\n      <td>NaN</td>\n      <td>Reg</td>\n      <td>Lvl</td>\n      <td>AllPub</td>\n      <td>...</td>\n      <td>0</td>\n      <td>NaN</td>\n      <td>NaN</td>\n      <td>NaN</td>\n      <td>0</td>\n      <td>6</td>\n      <td>2008</td>\n      <td>WD</td>\n      <td>Normal</td>\n      <td>159000</td>\n    </tr>\n    <tr>\n      <th>19</th>\n      <td>20</td>\n      <td>20</td>\n      <td>RL</td>\n      <td>70.0</td>\n      <td>7560</td>\n      <td>Pave</td>\n      <td>NaN</td>\n      <td>Reg</td>\n      <td>Lvl</td>\n      <td>AllPub</td>\n      <td>...</td>\n      <td>0</td>\n      <td>NaN</td>\n      <td>MnPrv</td>\n      <td>NaN</td>\n      <td>0</td>\n      <td>5</td>\n      <td>2009</td>\n      <td>COD</td>\n      <td>Abnorml</td>\n      <td>139000</td>\n    </tr>\n  </tbody>\n</table>\n<p>20 rows × 81 columns</p>\n</div>"
     },
     "execution_count": 88,
     "metadata": {},
     "output_type": "execute_result"
    }
   ],
   "source": [
    "import pandas as pd\n",
    "import matplotlib.pyplot as plt\n",
    "import seaborn as sns\n",
    "\n",
    "df_Prices = pd.read_csv(\"./train.csv\")\n",
    "df_Prices.head(20)"
   ]
  },
  {
   "cell_type": "code",
   "execution_count": 89,
   "outputs": [
    {
     "name": "stdout",
     "output_type": "stream",
     "text": [
      "<class 'pandas.core.frame.DataFrame'>\n",
      "RangeIndex: 1460 entries, 0 to 1459\n",
      "Data columns (total 81 columns):\n",
      " #   Column         Non-Null Count  Dtype  \n",
      "---  ------         --------------  -----  \n",
      " 0   Id             1460 non-null   int64  \n",
      " 1   MSSubClass     1460 non-null   int64  \n",
      " 2   MSZoning       1460 non-null   object \n",
      " 3   LotFrontage    1201 non-null   float64\n",
      " 4   LotArea        1460 non-null   int64  \n",
      " 5   Street         1460 non-null   object \n",
      " 6   Alley          91 non-null     object \n",
      " 7   LotShape       1460 non-null   object \n",
      " 8   LandContour    1460 non-null   object \n",
      " 9   Utilities      1460 non-null   object \n",
      " 10  LotConfig      1460 non-null   object \n",
      " 11  LandSlope      1460 non-null   object \n",
      " 12  Neighborhood   1460 non-null   object \n",
      " 13  Condition1     1460 non-null   object \n",
      " 14  Condition2     1460 non-null   object \n",
      " 15  BldgType       1460 non-null   object \n",
      " 16  HouseStyle     1460 non-null   object \n",
      " 17  OverallQual    1460 non-null   int64  \n",
      " 18  OverallCond    1460 non-null   int64  \n",
      " 19  YearBuilt      1460 non-null   int64  \n",
      " 20  YearRemodAdd   1460 non-null   int64  \n",
      " 21  RoofStyle      1460 non-null   object \n",
      " 22  RoofMatl       1460 non-null   object \n",
      " 23  Exterior1st    1460 non-null   object \n",
      " 24  Exterior2nd    1460 non-null   object \n",
      " 25  MasVnrType     588 non-null    object \n",
      " 26  MasVnrArea     1452 non-null   float64\n",
      " 27  ExterQual      1460 non-null   object \n",
      " 28  ExterCond      1460 non-null   object \n",
      " 29  Foundation     1460 non-null   object \n",
      " 30  BsmtQual       1423 non-null   object \n",
      " 31  BsmtCond       1423 non-null   object \n",
      " 32  BsmtExposure   1422 non-null   object \n",
      " 33  BsmtFinType1   1423 non-null   object \n",
      " 34  BsmtFinSF1     1460 non-null   int64  \n",
      " 35  BsmtFinType2   1422 non-null   object \n",
      " 36  BsmtFinSF2     1460 non-null   int64  \n",
      " 37  BsmtUnfSF      1460 non-null   int64  \n",
      " 38  TotalBsmtSF    1460 non-null   int64  \n",
      " 39  Heating        1460 non-null   object \n",
      " 40  HeatingQC      1460 non-null   object \n",
      " 41  CentralAir     1460 non-null   object \n",
      " 42  Electrical     1459 non-null   object \n",
      " 43  1stFlrSF       1460 non-null   int64  \n",
      " 44  2ndFlrSF       1460 non-null   int64  \n",
      " 45  LowQualFinSF   1460 non-null   int64  \n",
      " 46  GrLivArea      1460 non-null   int64  \n",
      " 47  BsmtFullBath   1460 non-null   int64  \n",
      " 48  BsmtHalfBath   1460 non-null   int64  \n",
      " 49  FullBath       1460 non-null   int64  \n",
      " 50  HalfBath       1460 non-null   int64  \n",
      " 51  BedroomAbvGr   1460 non-null   int64  \n",
      " 52  KitchenAbvGr   1460 non-null   int64  \n",
      " 53  KitchenQual    1460 non-null   object \n",
      " 54  TotRmsAbvGrd   1460 non-null   int64  \n",
      " 55  Functional     1460 non-null   object \n",
      " 56  Fireplaces     1460 non-null   int64  \n",
      " 57  FireplaceQu    770 non-null    object \n",
      " 58  GarageType     1379 non-null   object \n",
      " 59  GarageYrBlt    1379 non-null   float64\n",
      " 60  GarageFinish   1379 non-null   object \n",
      " 61  GarageCars     1460 non-null   int64  \n",
      " 62  GarageArea     1460 non-null   int64  \n",
      " 63  GarageQual     1379 non-null   object \n",
      " 64  GarageCond     1379 non-null   object \n",
      " 65  PavedDrive     1460 non-null   object \n",
      " 66  WoodDeckSF     1460 non-null   int64  \n",
      " 67  OpenPorchSF    1460 non-null   int64  \n",
      " 68  EnclosedPorch  1460 non-null   int64  \n",
      " 69  3SsnPorch      1460 non-null   int64  \n",
      " 70  ScreenPorch    1460 non-null   int64  \n",
      " 71  PoolArea       1460 non-null   int64  \n",
      " 72  PoolQC         7 non-null      object \n",
      " 73  Fence          281 non-null    object \n",
      " 74  MiscFeature    54 non-null     object \n",
      " 75  MiscVal        1460 non-null   int64  \n",
      " 76  MoSold         1460 non-null   int64  \n",
      " 77  YrSold         1460 non-null   int64  \n",
      " 78  SaleType       1460 non-null   object \n",
      " 79  SaleCondition  1460 non-null   object \n",
      " 80  SalePrice      1460 non-null   int64  \n",
      "dtypes: float64(3), int64(35), object(43)\n",
      "memory usage: 924.0+ KB\n"
     ]
    }
   ],
   "source": [
    "df_Prices.info()"
   ],
   "metadata": {
    "collapsed": false,
    "ExecuteTime": {
     "end_time": "2023-12-26T10:19:42.444495082Z",
     "start_time": "2023-12-26T10:19:42.200336722Z"
    }
   },
   "id": "786353f1b495a602"
  },
  {
   "cell_type": "code",
   "execution_count": 90,
   "outputs": [],
   "source": [
    "def region_fc(df, list_gen, list_reduce, title):\n",
    "    for item in list_gen:\n",
    "        if item in list_reduce:\n",
    "            df.loc[df['state']==item, \"Region\"]=title"
   ],
   "metadata": {
    "collapsed": false,
    "ExecuteTime": {
     "end_time": "2023-12-26T10:19:43.364633887Z",
     "start_time": "2023-12-26T10:19:42.707471077Z"
    }
   },
   "id": "22bc950454157b79"
  },
  {
   "cell_type": "code",
   "execution_count": 91,
   "outputs": [],
   "source": [
    "def plot_cat_by_serie(category,region,densite_label,df,series,col1=None,col2=None,col3=None):\n",
    "    serie=[]\n",
    "    serie = series.copy()\n",
    "    if col1!=None:\n",
    "        serie.append(col1)\n",
    "    if col2!=None:\n",
    "        serie.append(col2)\n",
    "    if col3!=None:\n",
    "        serie.append(col3)\n",
    "    #ax=(f'ax{i}' for i in range(len(serie)))\n",
    "    cols=len(serie)\n",
    "    rows=len(serie)//cols\n",
    "    fig, ax = plt.subplots(nrows=1, ncols=cols, figsize=(25, 5))\n",
    "    plt.suptitle(f'Repartion de la densité {densite_label} {category}  dans {region}  par ville dans chaque état ', fontsize=12)\n",
    "    for cat,a in zip(serie, ax):\n",
    "        df_cat = df[cat]\n",
    "        a.pie(df_cat.value_counts(),labels=df_cat.value_counts().index)\n",
    "        a.set_title(f\"{cat}\")\n",
    "    plt.show()\n",
    "    "
   ],
   "metadata": {
    "collapsed": false,
    "ExecuteTime": {
     "end_time": "2023-12-26T10:19:43.687870035Z",
     "start_time": "2023-12-26T10:19:43.228148590Z"
    }
   },
   "id": "48bc7b969434992b"
  },
  {
   "cell_type": "markdown",
   "source": [
    "# Nettoyage de données et préparation du dataset\n",
    "' le dataset doit être préparé, de nombreux NaN et des valeurs non numériques doivent soit être enlevées soit être transformées en valeurs numériques (on utilisera get_dummies)'"
   ],
   "metadata": {
    "collapsed": false
   },
   "id": "31c04aa43e02788a"
  },
  {
   "cell_type": "code",
   "execution_count": 92,
   "outputs": [
    {
     "data": {
      "text/plain": "count       91\nunique       2\ntop       Grvl\nfreq        50\nName: Alley, dtype: object"
     },
     "execution_count": 92,
     "metadata": {},
     "output_type": "execute_result"
    }
   ],
   "source": [
    "df_Prices['Alley'].describe()"
   ],
   "metadata": {
    "collapsed": false,
    "ExecuteTime": {
     "end_time": "2023-12-26T10:19:44.057281580Z",
     "start_time": "2023-12-26T10:19:43.633723510Z"
    }
   },
   "id": "9ab46d15b97f98e8"
  },
  {
   "cell_type": "code",
   "execution_count": 93,
   "outputs": [
    {
     "data": {
      "text/plain": "count     1460\nunique       5\ntop         RL\nfreq      1151\nName: MSZoning, dtype: object"
     },
     "execution_count": 93,
     "metadata": {},
     "output_type": "execute_result"
    }
   ],
   "source": [
    "df_Prices['MSZoning'].describe()"
   ],
   "metadata": {
    "collapsed": false,
    "ExecuteTime": {
     "end_time": "2023-12-26T10:19:44.318017156Z",
     "start_time": "2023-12-26T10:19:43.920439695Z"
    }
   },
   "id": "1bec77fd6e77dd85"
  },
  {
   "cell_type": "code",
   "execution_count": 94,
   "outputs": [
    {
     "data": {
      "text/plain": "43"
     },
     "execution_count": 94,
     "metadata": {},
     "output_type": "execute_result"
    }
   ],
   "source": [
    "list_col_obj=[]\n",
    "for a in df_Prices.columns:\n",
    "    if (df_Prices[a].dtypes != 'int64') and  (df_Prices[a].dtypes != 'float64') :\n",
    "        list_col_obj.append(a)\n",
    "\n",
    "len(list_col_obj)"
   ],
   "metadata": {
    "collapsed": false,
    "ExecuteTime": {
     "end_time": "2023-12-26T10:19:45.343940340Z",
     "start_time": "2023-12-26T10:19:45.067238352Z"
    }
   },
   "id": "a975181657bc5a55"
  },
  {
   "cell_type": "code",
   "execution_count": 95,
   "outputs": [],
   "source": [
    "def desc_object(list_col):\n",
    "    for col in list_col:\n",
    "        print(df_Prices[col].describe())"
   ],
   "metadata": {
    "collapsed": false,
    "ExecuteTime": {
     "end_time": "2023-12-26T10:19:46.206261930Z",
     "start_time": "2023-12-26T10:19:45.982809807Z"
    }
   },
   "id": "f95c675c3901b5b"
  },
  {
   "cell_type": "code",
   "execution_count": 96,
   "outputs": [],
   "source": [
    "def desc_selec(list_col):\n",
    "    list_a=[]\n",
    "    for col in list_col:\n",
    "        if df_Prices[col].describe()[1] <7:\n",
    "            list_a.append(col)\n",
    "    return list_a"
   ],
   "metadata": {
    "collapsed": false,
    "ExecuteTime": {
     "end_time": "2023-12-26T10:19:47.093084271Z",
     "start_time": "2023-12-26T10:19:47.032319959Z"
    }
   },
   "id": "975dd4c0475e66aa"
  },
  {
   "cell_type": "code",
   "execution_count": 97,
   "outputs": [
    {
     "name": "stdout",
     "output_type": "stream",
     "text": [
      "count     1460\n",
      "unique       5\n",
      "top         RL\n",
      "freq      1151\n",
      "Name: MSZoning, dtype: object\n",
      "count     1460\n",
      "unique       2\n",
      "top       Pave\n",
      "freq      1454\n",
      "Name: Street, dtype: object\n",
      "count       91\n",
      "unique       2\n",
      "top       Grvl\n",
      "freq        50\n",
      "Name: Alley, dtype: object\n",
      "count     1460\n",
      "unique       4\n",
      "top        Reg\n",
      "freq       925\n",
      "Name: LotShape, dtype: object\n",
      "count     1460\n",
      "unique       4\n",
      "top        Lvl\n",
      "freq      1311\n",
      "Name: LandContour, dtype: object\n",
      "count       1460\n",
      "unique         2\n",
      "top       AllPub\n",
      "freq        1459\n",
      "Name: Utilities, dtype: object\n",
      "count       1460\n",
      "unique         5\n",
      "top       Inside\n",
      "freq        1052\n",
      "Name: LotConfig, dtype: object\n",
      "count     1460\n",
      "unique       3\n",
      "top        Gtl\n",
      "freq      1382\n",
      "Name: LandSlope, dtype: object\n",
      "count      1460\n",
      "unique       25\n",
      "top       NAmes\n",
      "freq        225\n",
      "Name: Neighborhood, dtype: object\n",
      "count     1460\n",
      "unique       9\n",
      "top       Norm\n",
      "freq      1260\n",
      "Name: Condition1, dtype: object\n",
      "count     1460\n",
      "unique       8\n",
      "top       Norm\n",
      "freq      1445\n",
      "Name: Condition2, dtype: object\n",
      "count     1460\n",
      "unique       5\n",
      "top       1Fam\n",
      "freq      1220\n",
      "Name: BldgType, dtype: object\n",
      "count       1460\n",
      "unique         8\n",
      "top       1Story\n",
      "freq         726\n",
      "Name: HouseStyle, dtype: object\n",
      "count      1460\n",
      "unique        6\n",
      "top       Gable\n",
      "freq       1141\n",
      "Name: RoofStyle, dtype: object\n",
      "count        1460\n",
      "unique          8\n",
      "top       CompShg\n",
      "freq         1434\n",
      "Name: RoofMatl, dtype: object\n",
      "count        1460\n",
      "unique         15\n",
      "top       VinylSd\n",
      "freq          515\n",
      "Name: Exterior1st, dtype: object\n",
      "count        1460\n",
      "unique         16\n",
      "top       VinylSd\n",
      "freq          504\n",
      "Name: Exterior2nd, dtype: object\n",
      "count         588\n",
      "unique          3\n",
      "top       BrkFace\n",
      "freq          445\n",
      "Name: MasVnrType, dtype: object\n",
      "count     1460\n",
      "unique       4\n",
      "top         TA\n",
      "freq       906\n",
      "Name: ExterQual, dtype: object\n",
      "count     1460\n",
      "unique       5\n",
      "top         TA\n",
      "freq      1282\n",
      "Name: ExterCond, dtype: object\n",
      "count      1460\n",
      "unique        6\n",
      "top       PConc\n",
      "freq        647\n",
      "Name: Foundation, dtype: object\n",
      "count     1423\n",
      "unique       4\n",
      "top         TA\n",
      "freq       649\n",
      "Name: BsmtQual, dtype: object\n",
      "count     1423\n",
      "unique       4\n",
      "top         TA\n",
      "freq      1311\n",
      "Name: BsmtCond, dtype: object\n",
      "count     1422\n",
      "unique       4\n",
      "top         No\n",
      "freq       953\n",
      "Name: BsmtExposure, dtype: object\n",
      "count     1423\n",
      "unique       6\n",
      "top        Unf\n",
      "freq       430\n",
      "Name: BsmtFinType1, dtype: object\n",
      "count     1422\n",
      "unique       6\n",
      "top        Unf\n",
      "freq      1256\n",
      "Name: BsmtFinType2, dtype: object\n",
      "count     1460\n",
      "unique       6\n",
      "top       GasA\n",
      "freq      1428\n",
      "Name: Heating, dtype: object\n",
      "count     1460\n",
      "unique       5\n",
      "top         Ex\n",
      "freq       741\n",
      "Name: HeatingQC, dtype: object\n",
      "count     1460\n",
      "unique       2\n",
      "top          Y\n",
      "freq      1365\n",
      "Name: CentralAir, dtype: object\n",
      "count      1459\n",
      "unique        5\n",
      "top       SBrkr\n",
      "freq       1334\n",
      "Name: Electrical, dtype: object\n",
      "count     1460\n",
      "unique       4\n",
      "top         TA\n",
      "freq       735\n",
      "Name: KitchenQual, dtype: object\n",
      "count     1460\n",
      "unique       7\n",
      "top        Typ\n",
      "freq      1360\n",
      "Name: Functional, dtype: object\n",
      "count     770\n",
      "unique      5\n",
      "top        Gd\n",
      "freq      380\n",
      "Name: FireplaceQu, dtype: object\n",
      "count       1379\n",
      "unique         6\n",
      "top       Attchd\n",
      "freq         870\n",
      "Name: GarageType, dtype: object\n",
      "count     1379\n",
      "unique       3\n",
      "top        Unf\n",
      "freq       605\n",
      "Name: GarageFinish, dtype: object\n",
      "count     1379\n",
      "unique       5\n",
      "top         TA\n",
      "freq      1311\n",
      "Name: GarageQual, dtype: object\n",
      "count     1379\n",
      "unique       5\n",
      "top         TA\n",
      "freq      1326\n",
      "Name: GarageCond, dtype: object\n",
      "count     1460\n",
      "unique       3\n",
      "top          Y\n",
      "freq      1340\n",
      "Name: PavedDrive, dtype: object\n",
      "count      7\n",
      "unique     3\n",
      "top       Gd\n",
      "freq       3\n",
      "Name: PoolQC, dtype: object\n",
      "count       281\n",
      "unique        4\n",
      "top       MnPrv\n",
      "freq        157\n",
      "Name: Fence, dtype: object\n",
      "count       54\n",
      "unique       4\n",
      "top       Shed\n",
      "freq        49\n",
      "Name: MiscFeature, dtype: object\n",
      "count     1460\n",
      "unique       9\n",
      "top         WD\n",
      "freq      1267\n",
      "Name: SaleType, dtype: object\n",
      "count       1460\n",
      "unique         6\n",
      "top       Normal\n",
      "freq        1198\n",
      "Name: SaleCondition, dtype: object\n"
     ]
    }
   ],
   "source": [
    "desc_object(list_col_obj)"
   ],
   "metadata": {
    "collapsed": false,
    "ExecuteTime": {
     "end_time": "2023-12-26T10:19:48.318601918Z",
     "start_time": "2023-12-26T10:19:47.975600743Z"
    }
   },
   "id": "7d6d442880673bc9"
  },
  {
   "cell_type": "markdown",
   "source": [
    "## Selection des colonnes\n",
    "les colonnes descriptives ayant un nombre de categorie inférieures à 7 sont éligibles si elles ne dépendent d'autres colonnes aux nombrex plus élevés de catégories"
   ],
   "metadata": {
    "collapsed": false
   },
   "id": "4bacc770d1d50922"
  },
  {
   "cell_type": "code",
   "execution_count": 98,
   "outputs": [],
   "source": [
    "a=desc_selec(list_col_obj)"
   ],
   "metadata": {
    "collapsed": false,
    "ExecuteTime": {
     "end_time": "2023-12-26T10:19:50.543652466Z",
     "start_time": "2023-12-26T10:19:50.343964228Z"
    }
   },
   "id": "97d7a6e6041ccccb"
  },
  {
   "cell_type": "code",
   "execution_count": 99,
   "outputs": [
    {
     "data": {
      "text/plain": "['MSZoning',\n 'Street',\n 'Alley',\n 'LotShape',\n 'LandContour',\n 'Utilities',\n 'LotConfig',\n 'LandSlope',\n 'BldgType',\n 'RoofStyle',\n 'MasVnrType',\n 'ExterQual',\n 'ExterCond',\n 'Foundation',\n 'BsmtQual',\n 'BsmtCond',\n 'BsmtExposure',\n 'BsmtFinType1',\n 'BsmtFinType2',\n 'Heating',\n 'HeatingQC',\n 'CentralAir',\n 'Electrical',\n 'KitchenQual',\n 'FireplaceQu',\n 'GarageType',\n 'GarageFinish',\n 'GarageQual',\n 'GarageCond',\n 'PavedDrive',\n 'PoolQC',\n 'Fence',\n 'MiscFeature',\n 'SaleCondition']"
     },
     "execution_count": 99,
     "metadata": {},
     "output_type": "execute_result"
    }
   ],
   "source": [
    "a"
   ],
   "metadata": {
    "collapsed": false,
    "ExecuteTime": {
     "end_time": "2023-12-26T10:19:51.601718206Z",
     "start_time": "2023-12-26T10:19:51.296036890Z"
    }
   },
   "id": "8c5f04f32da3fb45"
  },
  {
   "cell_type": "code",
   "execution_count": 100,
   "outputs": [],
   "source": [
    "df_obj = df_Prices[a]"
   ],
   "metadata": {
    "collapsed": false,
    "ExecuteTime": {
     "end_time": "2023-12-26T10:19:53.898386794Z",
     "start_time": "2023-12-26T10:19:53.422958287Z"
    }
   },
   "id": "67a13d717b99f41b"
  },
  {
   "cell_type": "code",
   "execution_count": 101,
   "outputs": [
    {
     "name": "stdout",
     "output_type": "stream",
     "text": [
      "<class 'pandas.core.frame.DataFrame'>\n",
      "RangeIndex: 1460 entries, 0 to 1459\n",
      "Data columns (total 34 columns):\n",
      " #   Column         Non-Null Count  Dtype \n",
      "---  ------         --------------  ----- \n",
      " 0   MSZoning       1460 non-null   object\n",
      " 1   Street         1460 non-null   object\n",
      " 2   Alley          91 non-null     object\n",
      " 3   LotShape       1460 non-null   object\n",
      " 4   LandContour    1460 non-null   object\n",
      " 5   Utilities      1460 non-null   object\n",
      " 6   LotConfig      1460 non-null   object\n",
      " 7   LandSlope      1460 non-null   object\n",
      " 8   BldgType       1460 non-null   object\n",
      " 9   RoofStyle      1460 non-null   object\n",
      " 10  MasVnrType     588 non-null    object\n",
      " 11  ExterQual      1460 non-null   object\n",
      " 12  ExterCond      1460 non-null   object\n",
      " 13  Foundation     1460 non-null   object\n",
      " 14  BsmtQual       1423 non-null   object\n",
      " 15  BsmtCond       1423 non-null   object\n",
      " 16  BsmtExposure   1422 non-null   object\n",
      " 17  BsmtFinType1   1423 non-null   object\n",
      " 18  BsmtFinType2   1422 non-null   object\n",
      " 19  Heating        1460 non-null   object\n",
      " 20  HeatingQC      1460 non-null   object\n",
      " 21  CentralAir     1460 non-null   object\n",
      " 22  Electrical     1459 non-null   object\n",
      " 23  KitchenQual    1460 non-null   object\n",
      " 24  FireplaceQu    770 non-null    object\n",
      " 25  GarageType     1379 non-null   object\n",
      " 26  GarageFinish   1379 non-null   object\n",
      " 27  GarageQual     1379 non-null   object\n",
      " 28  GarageCond     1379 non-null   object\n",
      " 29  PavedDrive     1460 non-null   object\n",
      " 30  PoolQC         7 non-null      object\n",
      " 31  Fence          281 non-null    object\n",
      " 32  MiscFeature    54 non-null     object\n",
      " 33  SaleCondition  1460 non-null   object\n",
      "dtypes: object(34)\n",
      "memory usage: 387.9+ KB\n"
     ]
    }
   ],
   "source": [
    "df_obj.info(\n",
    ")"
   ],
   "metadata": {
    "collapsed": false,
    "ExecuteTime": {
     "end_time": "2023-12-26T10:19:56.205691557Z",
     "start_time": "2023-12-26T10:19:55.698817802Z"
    }
   },
   "id": "8c09dfa37468e443"
  },
  {
   "cell_type": "code",
   "execution_count": 102,
   "outputs": [],
   "source": [
    "df_obj = pd.get_dummies(df_obj, dtype=int)"
   ],
   "metadata": {
    "collapsed": false,
    "ExecuteTime": {
     "end_time": "2023-12-26T10:19:57.870326619Z",
     "start_time": "2023-12-26T10:19:57.662353569Z"
    }
   },
   "id": "d93881636bebc3f0"
  },
  {
   "cell_type": "code",
   "execution_count": 103,
   "outputs": [
    {
     "data": {
      "text/plain": "      MSZoning_C (all)  MSZoning_FV  MSZoning_RH  MSZoning_RL  MSZoning_RM  \\\n0                    0            0            0            1            0   \n1                    0            0            0            1            0   \n2                    0            0            0            1            0   \n3                    0            0            0            1            0   \n4                    0            0            0            1            0   \n...                ...          ...          ...          ...          ...   \n1455                 0            0            0            1            0   \n1456                 0            0            0            1            0   \n1457                 0            0            0            1            0   \n1458                 0            0            0            1            0   \n1459                 0            0            0            1            0   \n\n      Street_Grvl  Street_Pave  Alley_Grvl  Alley_Pave  LotShape_IR1  ...  \\\n0               0            1           0           0             0  ...   \n1               0            1           0           0             0  ...   \n2               0            1           0           0             1  ...   \n3               0            1           0           0             1  ...   \n4               0            1           0           0             1  ...   \n...           ...          ...         ...         ...           ...  ...   \n1455            0            1           0           0             0  ...   \n1456            0            1           0           0             0  ...   \n1457            0            1           0           0             0  ...   \n1458            0            1           0           0             0  ...   \n1459            0            1           0           0             0  ...   \n\n      MiscFeature_Gar2  MiscFeature_Othr  MiscFeature_Shed  MiscFeature_TenC  \\\n0                    0                 0                 0                 0   \n1                    0                 0                 0                 0   \n2                    0                 0                 0                 0   \n3                    0                 0                 0                 0   \n4                    0                 0                 0                 0   \n...                ...               ...               ...               ...   \n1455                 0                 0                 0                 0   \n1456                 0                 0                 0                 0   \n1457                 0                 0                 1                 0   \n1458                 0                 0                 0                 0   \n1459                 0                 0                 0                 0   \n\n      SaleCondition_Abnorml  SaleCondition_AdjLand  SaleCondition_Alloca  \\\n0                         0                      0                     0   \n1                         0                      0                     0   \n2                         0                      0                     0   \n3                         1                      0                     0   \n4                         0                      0                     0   \n...                     ...                    ...                   ...   \n1455                      0                      0                     0   \n1456                      0                      0                     0   \n1457                      0                      0                     0   \n1458                      0                      0                     0   \n1459                      0                      0                     0   \n\n      SaleCondition_Family  SaleCondition_Normal  SaleCondition_Partial  \n0                        0                     1                      0  \n1                        0                     1                      0  \n2                        0                     1                      0  \n3                        0                     0                      0  \n4                        0                     1                      0  \n...                    ...                   ...                    ...  \n1455                     0                     1                      0  \n1456                     0                     1                      0  \n1457                     0                     1                      0  \n1458                     0                     1                      0  \n1459                     0                     1                      0  \n\n[1460 rows x 146 columns]",
      "text/html": "<div>\n<style scoped>\n    .dataframe tbody tr th:only-of-type {\n        vertical-align: middle;\n    }\n\n    .dataframe tbody tr th {\n        vertical-align: top;\n    }\n\n    .dataframe thead th {\n        text-align: right;\n    }\n</style>\n<table border=\"1\" class=\"dataframe\">\n  <thead>\n    <tr style=\"text-align: right;\">\n      <th></th>\n      <th>MSZoning_C (all)</th>\n      <th>MSZoning_FV</th>\n      <th>MSZoning_RH</th>\n      <th>MSZoning_RL</th>\n      <th>MSZoning_RM</th>\n      <th>Street_Grvl</th>\n      <th>Street_Pave</th>\n      <th>Alley_Grvl</th>\n      <th>Alley_Pave</th>\n      <th>LotShape_IR1</th>\n      <th>...</th>\n      <th>MiscFeature_Gar2</th>\n      <th>MiscFeature_Othr</th>\n      <th>MiscFeature_Shed</th>\n      <th>MiscFeature_TenC</th>\n      <th>SaleCondition_Abnorml</th>\n      <th>SaleCondition_AdjLand</th>\n      <th>SaleCondition_Alloca</th>\n      <th>SaleCondition_Family</th>\n      <th>SaleCondition_Normal</th>\n      <th>SaleCondition_Partial</th>\n    </tr>\n  </thead>\n  <tbody>\n    <tr>\n      <th>0</th>\n      <td>0</td>\n      <td>0</td>\n      <td>0</td>\n      <td>1</td>\n      <td>0</td>\n      <td>0</td>\n      <td>1</td>\n      <td>0</td>\n      <td>0</td>\n      <td>0</td>\n      <td>...</td>\n      <td>0</td>\n      <td>0</td>\n      <td>0</td>\n      <td>0</td>\n      <td>0</td>\n      <td>0</td>\n      <td>0</td>\n      <td>0</td>\n      <td>1</td>\n      <td>0</td>\n    </tr>\n    <tr>\n      <th>1</th>\n      <td>0</td>\n      <td>0</td>\n      <td>0</td>\n      <td>1</td>\n      <td>0</td>\n      <td>0</td>\n      <td>1</td>\n      <td>0</td>\n      <td>0</td>\n      <td>0</td>\n      <td>...</td>\n      <td>0</td>\n      <td>0</td>\n      <td>0</td>\n      <td>0</td>\n      <td>0</td>\n      <td>0</td>\n      <td>0</td>\n      <td>0</td>\n      <td>1</td>\n      <td>0</td>\n    </tr>\n    <tr>\n      <th>2</th>\n      <td>0</td>\n      <td>0</td>\n      <td>0</td>\n      <td>1</td>\n      <td>0</td>\n      <td>0</td>\n      <td>1</td>\n      <td>0</td>\n      <td>0</td>\n      <td>1</td>\n      <td>...</td>\n      <td>0</td>\n      <td>0</td>\n      <td>0</td>\n      <td>0</td>\n      <td>0</td>\n      <td>0</td>\n      <td>0</td>\n      <td>0</td>\n      <td>1</td>\n      <td>0</td>\n    </tr>\n    <tr>\n      <th>3</th>\n      <td>0</td>\n      <td>0</td>\n      <td>0</td>\n      <td>1</td>\n      <td>0</td>\n      <td>0</td>\n      <td>1</td>\n      <td>0</td>\n      <td>0</td>\n      <td>1</td>\n      <td>...</td>\n      <td>0</td>\n      <td>0</td>\n      <td>0</td>\n      <td>0</td>\n      <td>1</td>\n      <td>0</td>\n      <td>0</td>\n      <td>0</td>\n      <td>0</td>\n      <td>0</td>\n    </tr>\n    <tr>\n      <th>4</th>\n      <td>0</td>\n      <td>0</td>\n      <td>0</td>\n      <td>1</td>\n      <td>0</td>\n      <td>0</td>\n      <td>1</td>\n      <td>0</td>\n      <td>0</td>\n      <td>1</td>\n      <td>...</td>\n      <td>0</td>\n      <td>0</td>\n      <td>0</td>\n      <td>0</td>\n      <td>0</td>\n      <td>0</td>\n      <td>0</td>\n      <td>0</td>\n      <td>1</td>\n      <td>0</td>\n    </tr>\n    <tr>\n      <th>...</th>\n      <td>...</td>\n      <td>...</td>\n      <td>...</td>\n      <td>...</td>\n      <td>...</td>\n      <td>...</td>\n      <td>...</td>\n      <td>...</td>\n      <td>...</td>\n      <td>...</td>\n      <td>...</td>\n      <td>...</td>\n      <td>...</td>\n      <td>...</td>\n      <td>...</td>\n      <td>...</td>\n      <td>...</td>\n      <td>...</td>\n      <td>...</td>\n      <td>...</td>\n      <td>...</td>\n    </tr>\n    <tr>\n      <th>1455</th>\n      <td>0</td>\n      <td>0</td>\n      <td>0</td>\n      <td>1</td>\n      <td>0</td>\n      <td>0</td>\n      <td>1</td>\n      <td>0</td>\n      <td>0</td>\n      <td>0</td>\n      <td>...</td>\n      <td>0</td>\n      <td>0</td>\n      <td>0</td>\n      <td>0</td>\n      <td>0</td>\n      <td>0</td>\n      <td>0</td>\n      <td>0</td>\n      <td>1</td>\n      <td>0</td>\n    </tr>\n    <tr>\n      <th>1456</th>\n      <td>0</td>\n      <td>0</td>\n      <td>0</td>\n      <td>1</td>\n      <td>0</td>\n      <td>0</td>\n      <td>1</td>\n      <td>0</td>\n      <td>0</td>\n      <td>0</td>\n      <td>...</td>\n      <td>0</td>\n      <td>0</td>\n      <td>0</td>\n      <td>0</td>\n      <td>0</td>\n      <td>0</td>\n      <td>0</td>\n      <td>0</td>\n      <td>1</td>\n      <td>0</td>\n    </tr>\n    <tr>\n      <th>1457</th>\n      <td>0</td>\n      <td>0</td>\n      <td>0</td>\n      <td>1</td>\n      <td>0</td>\n      <td>0</td>\n      <td>1</td>\n      <td>0</td>\n      <td>0</td>\n      <td>0</td>\n      <td>...</td>\n      <td>0</td>\n      <td>0</td>\n      <td>1</td>\n      <td>0</td>\n      <td>0</td>\n      <td>0</td>\n      <td>0</td>\n      <td>0</td>\n      <td>1</td>\n      <td>0</td>\n    </tr>\n    <tr>\n      <th>1458</th>\n      <td>0</td>\n      <td>0</td>\n      <td>0</td>\n      <td>1</td>\n      <td>0</td>\n      <td>0</td>\n      <td>1</td>\n      <td>0</td>\n      <td>0</td>\n      <td>0</td>\n      <td>...</td>\n      <td>0</td>\n      <td>0</td>\n      <td>0</td>\n      <td>0</td>\n      <td>0</td>\n      <td>0</td>\n      <td>0</td>\n      <td>0</td>\n      <td>1</td>\n      <td>0</td>\n    </tr>\n    <tr>\n      <th>1459</th>\n      <td>0</td>\n      <td>0</td>\n      <td>0</td>\n      <td>1</td>\n      <td>0</td>\n      <td>0</td>\n      <td>1</td>\n      <td>0</td>\n      <td>0</td>\n      <td>0</td>\n      <td>...</td>\n      <td>0</td>\n      <td>0</td>\n      <td>0</td>\n      <td>0</td>\n      <td>0</td>\n      <td>0</td>\n      <td>0</td>\n      <td>0</td>\n      <td>1</td>\n      <td>0</td>\n    </tr>\n  </tbody>\n</table>\n<p>1460 rows × 146 columns</p>\n</div>"
     },
     "execution_count": 103,
     "metadata": {},
     "output_type": "execute_result"
    }
   ],
   "source": [
    "df_obj"
   ],
   "metadata": {
    "collapsed": false,
    "ExecuteTime": {
     "end_time": "2023-12-26T10:20:00.239743838Z",
     "start_time": "2023-12-26T10:19:59.938486779Z"
    }
   },
   "id": "13e81ccde95a3cfd"
  },
  {
   "cell_type": "code",
   "execution_count": 115,
   "outputs": [],
   "source": [
    "df_exploit = df_Prices.select_dtypes(exclude=['object'])"
   ],
   "metadata": {
    "collapsed": false,
    "ExecuteTime": {
     "end_time": "2023-12-26T10:24:49.335725002Z",
     "start_time": "2023-12-26T10:24:48.861715120Z"
    }
   },
   "id": "7b1ac916b050a486"
  },
  {
   "cell_type": "code",
   "execution_count": 116,
   "outputs": [
    {
     "data": {
      "text/plain": "        Id  MSSubClass  LotFrontage  LotArea  OverallQual  OverallCond  \\\n0        1          60         65.0     8450            7            5   \n1        2          20         80.0     9600            6            8   \n2        3          60         68.0    11250            7            5   \n3        4          70         60.0     9550            7            5   \n4        5          60         84.0    14260            8            5   \n...    ...         ...          ...      ...          ...          ...   \n1455  1456          60         62.0     7917            6            5   \n1456  1457          20         85.0    13175            6            6   \n1457  1458          70         66.0     9042            7            9   \n1458  1459          20         68.0     9717            5            6   \n1459  1460          20         75.0     9937            5            6   \n\n      YearBuilt  YearRemodAdd  MasVnrArea  BsmtFinSF1  ...  WoodDeckSF  \\\n0          2003          2003       196.0         706  ...           0   \n1          1976          1976         0.0         978  ...         298   \n2          2001          2002       162.0         486  ...           0   \n3          1915          1970         0.0         216  ...           0   \n4          2000          2000       350.0         655  ...         192   \n...         ...           ...         ...         ...  ...         ...   \n1455       1999          2000         0.0           0  ...           0   \n1456       1978          1988       119.0         790  ...         349   \n1457       1941          2006         0.0         275  ...           0   \n1458       1950          1996         0.0          49  ...         366   \n1459       1965          1965         0.0         830  ...         736   \n\n      OpenPorchSF  EnclosedPorch  3SsnPorch  ScreenPorch  PoolArea  MiscVal  \\\n0              61              0          0            0         0        0   \n1               0              0          0            0         0        0   \n2              42              0          0            0         0        0   \n3              35            272          0            0         0        0   \n4              84              0          0            0         0        0   \n...           ...            ...        ...          ...       ...      ...   \n1455           40              0          0            0         0        0   \n1456            0              0          0            0         0        0   \n1457           60              0          0            0         0     2500   \n1458            0            112          0            0         0        0   \n1459           68              0          0            0         0        0   \n\n      MoSold  YrSold  SalePrice  \n0          2    2008     208500  \n1          5    2007     181500  \n2          9    2008     223500  \n3          2    2006     140000  \n4         12    2008     250000  \n...      ...     ...        ...  \n1455       8    2007     175000  \n1456       2    2010     210000  \n1457       5    2010     266500  \n1458       4    2010     142125  \n1459       6    2008     147500  \n\n[1460 rows x 38 columns]",
      "text/html": "<div>\n<style scoped>\n    .dataframe tbody tr th:only-of-type {\n        vertical-align: middle;\n    }\n\n    .dataframe tbody tr th {\n        vertical-align: top;\n    }\n\n    .dataframe thead th {\n        text-align: right;\n    }\n</style>\n<table border=\"1\" class=\"dataframe\">\n  <thead>\n    <tr style=\"text-align: right;\">\n      <th></th>\n      <th>Id</th>\n      <th>MSSubClass</th>\n      <th>LotFrontage</th>\n      <th>LotArea</th>\n      <th>OverallQual</th>\n      <th>OverallCond</th>\n      <th>YearBuilt</th>\n      <th>YearRemodAdd</th>\n      <th>MasVnrArea</th>\n      <th>BsmtFinSF1</th>\n      <th>...</th>\n      <th>WoodDeckSF</th>\n      <th>OpenPorchSF</th>\n      <th>EnclosedPorch</th>\n      <th>3SsnPorch</th>\n      <th>ScreenPorch</th>\n      <th>PoolArea</th>\n      <th>MiscVal</th>\n      <th>MoSold</th>\n      <th>YrSold</th>\n      <th>SalePrice</th>\n    </tr>\n  </thead>\n  <tbody>\n    <tr>\n      <th>0</th>\n      <td>1</td>\n      <td>60</td>\n      <td>65.0</td>\n      <td>8450</td>\n      <td>7</td>\n      <td>5</td>\n      <td>2003</td>\n      <td>2003</td>\n      <td>196.0</td>\n      <td>706</td>\n      <td>...</td>\n      <td>0</td>\n      <td>61</td>\n      <td>0</td>\n      <td>0</td>\n      <td>0</td>\n      <td>0</td>\n      <td>0</td>\n      <td>2</td>\n      <td>2008</td>\n      <td>208500</td>\n    </tr>\n    <tr>\n      <th>1</th>\n      <td>2</td>\n      <td>20</td>\n      <td>80.0</td>\n      <td>9600</td>\n      <td>6</td>\n      <td>8</td>\n      <td>1976</td>\n      <td>1976</td>\n      <td>0.0</td>\n      <td>978</td>\n      <td>...</td>\n      <td>298</td>\n      <td>0</td>\n      <td>0</td>\n      <td>0</td>\n      <td>0</td>\n      <td>0</td>\n      <td>0</td>\n      <td>5</td>\n      <td>2007</td>\n      <td>181500</td>\n    </tr>\n    <tr>\n      <th>2</th>\n      <td>3</td>\n      <td>60</td>\n      <td>68.0</td>\n      <td>11250</td>\n      <td>7</td>\n      <td>5</td>\n      <td>2001</td>\n      <td>2002</td>\n      <td>162.0</td>\n      <td>486</td>\n      <td>...</td>\n      <td>0</td>\n      <td>42</td>\n      <td>0</td>\n      <td>0</td>\n      <td>0</td>\n      <td>0</td>\n      <td>0</td>\n      <td>9</td>\n      <td>2008</td>\n      <td>223500</td>\n    </tr>\n    <tr>\n      <th>3</th>\n      <td>4</td>\n      <td>70</td>\n      <td>60.0</td>\n      <td>9550</td>\n      <td>7</td>\n      <td>5</td>\n      <td>1915</td>\n      <td>1970</td>\n      <td>0.0</td>\n      <td>216</td>\n      <td>...</td>\n      <td>0</td>\n      <td>35</td>\n      <td>272</td>\n      <td>0</td>\n      <td>0</td>\n      <td>0</td>\n      <td>0</td>\n      <td>2</td>\n      <td>2006</td>\n      <td>140000</td>\n    </tr>\n    <tr>\n      <th>4</th>\n      <td>5</td>\n      <td>60</td>\n      <td>84.0</td>\n      <td>14260</td>\n      <td>8</td>\n      <td>5</td>\n      <td>2000</td>\n      <td>2000</td>\n      <td>350.0</td>\n      <td>655</td>\n      <td>...</td>\n      <td>192</td>\n      <td>84</td>\n      <td>0</td>\n      <td>0</td>\n      <td>0</td>\n      <td>0</td>\n      <td>0</td>\n      <td>12</td>\n      <td>2008</td>\n      <td>250000</td>\n    </tr>\n    <tr>\n      <th>...</th>\n      <td>...</td>\n      <td>...</td>\n      <td>...</td>\n      <td>...</td>\n      <td>...</td>\n      <td>...</td>\n      <td>...</td>\n      <td>...</td>\n      <td>...</td>\n      <td>...</td>\n      <td>...</td>\n      <td>...</td>\n      <td>...</td>\n      <td>...</td>\n      <td>...</td>\n      <td>...</td>\n      <td>...</td>\n      <td>...</td>\n      <td>...</td>\n      <td>...</td>\n      <td>...</td>\n    </tr>\n    <tr>\n      <th>1455</th>\n      <td>1456</td>\n      <td>60</td>\n      <td>62.0</td>\n      <td>7917</td>\n      <td>6</td>\n      <td>5</td>\n      <td>1999</td>\n      <td>2000</td>\n      <td>0.0</td>\n      <td>0</td>\n      <td>...</td>\n      <td>0</td>\n      <td>40</td>\n      <td>0</td>\n      <td>0</td>\n      <td>0</td>\n      <td>0</td>\n      <td>0</td>\n      <td>8</td>\n      <td>2007</td>\n      <td>175000</td>\n    </tr>\n    <tr>\n      <th>1456</th>\n      <td>1457</td>\n      <td>20</td>\n      <td>85.0</td>\n      <td>13175</td>\n      <td>6</td>\n      <td>6</td>\n      <td>1978</td>\n      <td>1988</td>\n      <td>119.0</td>\n      <td>790</td>\n      <td>...</td>\n      <td>349</td>\n      <td>0</td>\n      <td>0</td>\n      <td>0</td>\n      <td>0</td>\n      <td>0</td>\n      <td>0</td>\n      <td>2</td>\n      <td>2010</td>\n      <td>210000</td>\n    </tr>\n    <tr>\n      <th>1457</th>\n      <td>1458</td>\n      <td>70</td>\n      <td>66.0</td>\n      <td>9042</td>\n      <td>7</td>\n      <td>9</td>\n      <td>1941</td>\n      <td>2006</td>\n      <td>0.0</td>\n      <td>275</td>\n      <td>...</td>\n      <td>0</td>\n      <td>60</td>\n      <td>0</td>\n      <td>0</td>\n      <td>0</td>\n      <td>0</td>\n      <td>2500</td>\n      <td>5</td>\n      <td>2010</td>\n      <td>266500</td>\n    </tr>\n    <tr>\n      <th>1458</th>\n      <td>1459</td>\n      <td>20</td>\n      <td>68.0</td>\n      <td>9717</td>\n      <td>5</td>\n      <td>6</td>\n      <td>1950</td>\n      <td>1996</td>\n      <td>0.0</td>\n      <td>49</td>\n      <td>...</td>\n      <td>366</td>\n      <td>0</td>\n      <td>112</td>\n      <td>0</td>\n      <td>0</td>\n      <td>0</td>\n      <td>0</td>\n      <td>4</td>\n      <td>2010</td>\n      <td>142125</td>\n    </tr>\n    <tr>\n      <th>1459</th>\n      <td>1460</td>\n      <td>20</td>\n      <td>75.0</td>\n      <td>9937</td>\n      <td>5</td>\n      <td>6</td>\n      <td>1965</td>\n      <td>1965</td>\n      <td>0.0</td>\n      <td>830</td>\n      <td>...</td>\n      <td>736</td>\n      <td>68</td>\n      <td>0</td>\n      <td>0</td>\n      <td>0</td>\n      <td>0</td>\n      <td>0</td>\n      <td>6</td>\n      <td>2008</td>\n      <td>147500</td>\n    </tr>\n  </tbody>\n</table>\n<p>1460 rows × 38 columns</p>\n</div>"
     },
     "execution_count": 116,
     "metadata": {},
     "output_type": "execute_result"
    }
   ],
   "source": [
    "df_exploit"
   ],
   "metadata": {
    "collapsed": false,
    "ExecuteTime": {
     "end_time": "2023-12-26T10:24:53.449876637Z",
     "start_time": "2023-12-26T10:24:52.923288895Z"
    }
   },
   "id": "38523307c08cd319"
  },
  {
   "cell_type": "code",
   "execution_count": 117,
   "outputs": [],
   "source": [
    "df_exploit=pd.concat([df_exploit,df_obj], axis=1).reset_index()"
   ],
   "metadata": {
    "collapsed": false,
    "ExecuteTime": {
     "end_time": "2023-12-26T10:25:00.648123407Z",
     "start_time": "2023-12-26T10:25:00.196218004Z"
    }
   },
   "id": "4675a91f482204bf"
  },
  {
   "cell_type": "code",
   "execution_count": 118,
   "outputs": [
    {
     "data": {
      "text/plain": "      index    Id  MSSubClass  LotFrontage  LotArea  OverallQual  OverallCond  \\\n0         0     1          60         65.0     8450            7            5   \n1         1     2          20         80.0     9600            6            8   \n2         2     3          60         68.0    11250            7            5   \n3         3     4          70         60.0     9550            7            5   \n4         4     5          60         84.0    14260            8            5   \n...     ...   ...         ...          ...      ...          ...          ...   \n1455   1455  1456          60         62.0     7917            6            5   \n1456   1456  1457          20         85.0    13175            6            6   \n1457   1457  1458          70         66.0     9042            7            9   \n1458   1458  1459          20         68.0     9717            5            6   \n1459   1459  1460          20         75.0     9937            5            6   \n\n      YearBuilt  YearRemodAdd  MasVnrArea  ...  MiscFeature_Gar2  \\\n0          2003          2003       196.0  ...                 0   \n1          1976          1976         0.0  ...                 0   \n2          2001          2002       162.0  ...                 0   \n3          1915          1970         0.0  ...                 0   \n4          2000          2000       350.0  ...                 0   \n...         ...           ...         ...  ...               ...   \n1455       1999          2000         0.0  ...                 0   \n1456       1978          1988       119.0  ...                 0   \n1457       1941          2006         0.0  ...                 0   \n1458       1950          1996         0.0  ...                 0   \n1459       1965          1965         0.0  ...                 0   \n\n      MiscFeature_Othr  MiscFeature_Shed  MiscFeature_TenC  \\\n0                    0                 0                 0   \n1                    0                 0                 0   \n2                    0                 0                 0   \n3                    0                 0                 0   \n4                    0                 0                 0   \n...                ...               ...               ...   \n1455                 0                 0                 0   \n1456                 0                 0                 0   \n1457                 0                 1                 0   \n1458                 0                 0                 0   \n1459                 0                 0                 0   \n\n      SaleCondition_Abnorml  SaleCondition_AdjLand  SaleCondition_Alloca  \\\n0                         0                      0                     0   \n1                         0                      0                     0   \n2                         0                      0                     0   \n3                         1                      0                     0   \n4                         0                      0                     0   \n...                     ...                    ...                   ...   \n1455                      0                      0                     0   \n1456                      0                      0                     0   \n1457                      0                      0                     0   \n1458                      0                      0                     0   \n1459                      0                      0                     0   \n\n      SaleCondition_Family  SaleCondition_Normal  SaleCondition_Partial  \n0                        0                     1                      0  \n1                        0                     1                      0  \n2                        0                     1                      0  \n3                        0                     0                      0  \n4                        0                     1                      0  \n...                    ...                   ...                    ...  \n1455                     0                     1                      0  \n1456                     0                     1                      0  \n1457                     0                     1                      0  \n1458                     0                     1                      0  \n1459                     0                     1                      0  \n\n[1460 rows x 185 columns]",
      "text/html": "<div>\n<style scoped>\n    .dataframe tbody tr th:only-of-type {\n        vertical-align: middle;\n    }\n\n    .dataframe tbody tr th {\n        vertical-align: top;\n    }\n\n    .dataframe thead th {\n        text-align: right;\n    }\n</style>\n<table border=\"1\" class=\"dataframe\">\n  <thead>\n    <tr style=\"text-align: right;\">\n      <th></th>\n      <th>index</th>\n      <th>Id</th>\n      <th>MSSubClass</th>\n      <th>LotFrontage</th>\n      <th>LotArea</th>\n      <th>OverallQual</th>\n      <th>OverallCond</th>\n      <th>YearBuilt</th>\n      <th>YearRemodAdd</th>\n      <th>MasVnrArea</th>\n      <th>...</th>\n      <th>MiscFeature_Gar2</th>\n      <th>MiscFeature_Othr</th>\n      <th>MiscFeature_Shed</th>\n      <th>MiscFeature_TenC</th>\n      <th>SaleCondition_Abnorml</th>\n      <th>SaleCondition_AdjLand</th>\n      <th>SaleCondition_Alloca</th>\n      <th>SaleCondition_Family</th>\n      <th>SaleCondition_Normal</th>\n      <th>SaleCondition_Partial</th>\n    </tr>\n  </thead>\n  <tbody>\n    <tr>\n      <th>0</th>\n      <td>0</td>\n      <td>1</td>\n      <td>60</td>\n      <td>65.0</td>\n      <td>8450</td>\n      <td>7</td>\n      <td>5</td>\n      <td>2003</td>\n      <td>2003</td>\n      <td>196.0</td>\n      <td>...</td>\n      <td>0</td>\n      <td>0</td>\n      <td>0</td>\n      <td>0</td>\n      <td>0</td>\n      <td>0</td>\n      <td>0</td>\n      <td>0</td>\n      <td>1</td>\n      <td>0</td>\n    </tr>\n    <tr>\n      <th>1</th>\n      <td>1</td>\n      <td>2</td>\n      <td>20</td>\n      <td>80.0</td>\n      <td>9600</td>\n      <td>6</td>\n      <td>8</td>\n      <td>1976</td>\n      <td>1976</td>\n      <td>0.0</td>\n      <td>...</td>\n      <td>0</td>\n      <td>0</td>\n      <td>0</td>\n      <td>0</td>\n      <td>0</td>\n      <td>0</td>\n      <td>0</td>\n      <td>0</td>\n      <td>1</td>\n      <td>0</td>\n    </tr>\n    <tr>\n      <th>2</th>\n      <td>2</td>\n      <td>3</td>\n      <td>60</td>\n      <td>68.0</td>\n      <td>11250</td>\n      <td>7</td>\n      <td>5</td>\n      <td>2001</td>\n      <td>2002</td>\n      <td>162.0</td>\n      <td>...</td>\n      <td>0</td>\n      <td>0</td>\n      <td>0</td>\n      <td>0</td>\n      <td>0</td>\n      <td>0</td>\n      <td>0</td>\n      <td>0</td>\n      <td>1</td>\n      <td>0</td>\n    </tr>\n    <tr>\n      <th>3</th>\n      <td>3</td>\n      <td>4</td>\n      <td>70</td>\n      <td>60.0</td>\n      <td>9550</td>\n      <td>7</td>\n      <td>5</td>\n      <td>1915</td>\n      <td>1970</td>\n      <td>0.0</td>\n      <td>...</td>\n      <td>0</td>\n      <td>0</td>\n      <td>0</td>\n      <td>0</td>\n      <td>1</td>\n      <td>0</td>\n      <td>0</td>\n      <td>0</td>\n      <td>0</td>\n      <td>0</td>\n    </tr>\n    <tr>\n      <th>4</th>\n      <td>4</td>\n      <td>5</td>\n      <td>60</td>\n      <td>84.0</td>\n      <td>14260</td>\n      <td>8</td>\n      <td>5</td>\n      <td>2000</td>\n      <td>2000</td>\n      <td>350.0</td>\n      <td>...</td>\n      <td>0</td>\n      <td>0</td>\n      <td>0</td>\n      <td>0</td>\n      <td>0</td>\n      <td>0</td>\n      <td>0</td>\n      <td>0</td>\n      <td>1</td>\n      <td>0</td>\n    </tr>\n    <tr>\n      <th>...</th>\n      <td>...</td>\n      <td>...</td>\n      <td>...</td>\n      <td>...</td>\n      <td>...</td>\n      <td>...</td>\n      <td>...</td>\n      <td>...</td>\n      <td>...</td>\n      <td>...</td>\n      <td>...</td>\n      <td>...</td>\n      <td>...</td>\n      <td>...</td>\n      <td>...</td>\n      <td>...</td>\n      <td>...</td>\n      <td>...</td>\n      <td>...</td>\n      <td>...</td>\n      <td>...</td>\n    </tr>\n    <tr>\n      <th>1455</th>\n      <td>1455</td>\n      <td>1456</td>\n      <td>60</td>\n      <td>62.0</td>\n      <td>7917</td>\n      <td>6</td>\n      <td>5</td>\n      <td>1999</td>\n      <td>2000</td>\n      <td>0.0</td>\n      <td>...</td>\n      <td>0</td>\n      <td>0</td>\n      <td>0</td>\n      <td>0</td>\n      <td>0</td>\n      <td>0</td>\n      <td>0</td>\n      <td>0</td>\n      <td>1</td>\n      <td>0</td>\n    </tr>\n    <tr>\n      <th>1456</th>\n      <td>1456</td>\n      <td>1457</td>\n      <td>20</td>\n      <td>85.0</td>\n      <td>13175</td>\n      <td>6</td>\n      <td>6</td>\n      <td>1978</td>\n      <td>1988</td>\n      <td>119.0</td>\n      <td>...</td>\n      <td>0</td>\n      <td>0</td>\n      <td>0</td>\n      <td>0</td>\n      <td>0</td>\n      <td>0</td>\n      <td>0</td>\n      <td>0</td>\n      <td>1</td>\n      <td>0</td>\n    </tr>\n    <tr>\n      <th>1457</th>\n      <td>1457</td>\n      <td>1458</td>\n      <td>70</td>\n      <td>66.0</td>\n      <td>9042</td>\n      <td>7</td>\n      <td>9</td>\n      <td>1941</td>\n      <td>2006</td>\n      <td>0.0</td>\n      <td>...</td>\n      <td>0</td>\n      <td>0</td>\n      <td>1</td>\n      <td>0</td>\n      <td>0</td>\n      <td>0</td>\n      <td>0</td>\n      <td>0</td>\n      <td>1</td>\n      <td>0</td>\n    </tr>\n    <tr>\n      <th>1458</th>\n      <td>1458</td>\n      <td>1459</td>\n      <td>20</td>\n      <td>68.0</td>\n      <td>9717</td>\n      <td>5</td>\n      <td>6</td>\n      <td>1950</td>\n      <td>1996</td>\n      <td>0.0</td>\n      <td>...</td>\n      <td>0</td>\n      <td>0</td>\n      <td>0</td>\n      <td>0</td>\n      <td>0</td>\n      <td>0</td>\n      <td>0</td>\n      <td>0</td>\n      <td>1</td>\n      <td>0</td>\n    </tr>\n    <tr>\n      <th>1459</th>\n      <td>1459</td>\n      <td>1460</td>\n      <td>20</td>\n      <td>75.0</td>\n      <td>9937</td>\n      <td>5</td>\n      <td>6</td>\n      <td>1965</td>\n      <td>1965</td>\n      <td>0.0</td>\n      <td>...</td>\n      <td>0</td>\n      <td>0</td>\n      <td>0</td>\n      <td>0</td>\n      <td>0</td>\n      <td>0</td>\n      <td>0</td>\n      <td>0</td>\n      <td>1</td>\n      <td>0</td>\n    </tr>\n  </tbody>\n</table>\n<p>1460 rows × 185 columns</p>\n</div>"
     },
     "execution_count": 118,
     "metadata": {},
     "output_type": "execute_result"
    }
   ],
   "source": [
    "df_exploit"
   ],
   "metadata": {
    "collapsed": false,
    "ExecuteTime": {
     "end_time": "2023-12-26T10:25:03.012649837Z",
     "start_time": "2023-12-26T10:25:02.365496181Z"
    }
   },
   "id": "fb737349360622da"
  },
  {
   "cell_type": "code",
   "execution_count": 126,
   "outputs": [],
   "source": [
    "df_exploit = df_exploit.dropna(axis=1)"
   ],
   "metadata": {
    "collapsed": false,
    "ExecuteTime": {
     "end_time": "2023-12-26T19:25:14.147548282Z",
     "start_time": "2023-12-26T19:25:13.454097651Z"
    }
   },
   "id": "ca4c4b3c2ca44571"
  },
  {
   "cell_type": "markdown",
   "source": [
    "# Resolution par lasso puis ridge sklearn"
   ],
   "metadata": {
    "collapsed": false
   },
   "id": "48be5ac527b206ec"
  },
  {
   "cell_type": "code",
   "execution_count": 138,
   "outputs": [],
   "source": [
    "from sklearn import linear_model\n",
    "from sklearn.model_selection import train_test_split\n",
    "from sklearn.preprocessing import StandardScaler\n",
    "from sklearn.metrics import roc_auc_score"
   ],
   "metadata": {
    "collapsed": false,
    "ExecuteTime": {
     "end_time": "2023-12-26T19:33:37.547408054Z",
     "start_time": "2023-12-26T19:33:37.043732397Z"
    }
   },
   "id": "962e984f9282d2fe"
  },
  {
   "cell_type": "code",
   "execution_count": 128,
   "outputs": [],
   "source": [
    "features = df_exploit.drop(['SalePrice'],axis=1)\n",
    "target = df_exploit['SalePrice']"
   ],
   "metadata": {
    "collapsed": false,
    "ExecuteTime": {
     "end_time": "2023-12-26T19:25:20.104953789Z",
     "start_time": "2023-12-26T19:25:20.033011318Z"
    }
   },
   "id": "4086bc20c0b9bf52"
  },
  {
   "cell_type": "code",
   "execution_count": 129,
   "outputs": [],
   "source": [
    "X_train, X_test, y_train, y_test = train_test_split(features, target, test_size=0.2, random_state=1234)"
   ],
   "metadata": {
    "collapsed": false,
    "ExecuteTime": {
     "end_time": "2023-12-26T19:25:22.621932275Z",
     "start_time": "2023-12-26T19:25:22.052509956Z"
    }
   },
   "id": "2f4b9a6da7ff290c"
  },
  {
   "cell_type": "code",
   "execution_count": 130,
   "outputs": [],
   "source": [
    "sc = StandardScaler()"
   ],
   "metadata": {
    "collapsed": false,
    "ExecuteTime": {
     "end_time": "2023-12-26T19:25:23.812664864Z",
     "start_time": "2023-12-26T19:25:23.756978711Z"
    }
   },
   "id": "97c3eef1da52f19f"
  },
  {
   "cell_type": "code",
   "execution_count": 131,
   "outputs": [],
   "source": [
    "X_train_scaled = sc.fit_transform(X_train)\n",
    "X_test_scaled = sc.transform(X_test)"
   ],
   "metadata": {
    "collapsed": false,
    "ExecuteTime": {
     "end_time": "2023-12-26T19:25:25.301513790Z",
     "start_time": "2023-12-26T19:25:24.998999362Z"
    }
   },
   "id": "4e046c98a1097fd5"
  },
  {
   "cell_type": "code",
   "execution_count": 133,
   "outputs": [
    {
     "name": "stdout",
     "output_type": "stream",
     "text": [
      "[-7.58629678e+01 -2.89035158e-13 -5.66395921e+03  3.34239590e+03\n",
      "  1.26172885e+04  7.38410742e+03  5.38553256e+03  2.67663433e+02\n",
      "  1.65264716e+04  5.11296122e+03  9.26060939e+03  5.92229567e+03\n",
      "  1.13935149e+04  2.21382263e+04 -5.89732683e+02  3.11272703e+03\n",
      "  5.07287863e+01 -1.42308827e+03  1.68173321e+03  1.49722528e+03\n",
      " -3.02483302e+03 -4.70605548e+03  3.30689252e+03  5.56776407e+03\n",
      "  4.32949231e+03  5.17321222e+03  2.61442402e+03 -2.09945782e+03\n",
      " -1.43773694e+02  1.11541267e+03  2.41816690e+03  8.50007798e+04\n",
      " -1.50845339e+03 -6.29734425e+02 -6.61447615e+02 -1.30632691e+03\n",
      "  3.43629566e+03  1.43282126e+03  1.96636188e+03 -7.67024728e+02\n",
      " -1.85577403e+03  5.52823175e-11 -9.94516170e+02 -4.51732661e+02\n",
      "  2.80685510e+02  1.74871197e+03  1.01437533e+02 -2.62225569e+02\n",
      " -2.58088410e+03 -4.80172663e+01 -7.62959023e+02  1.07428197e+02\n",
      "  1.14316052e+03 -5.66000823e-14  6.85337474e+02  2.65598291e+03\n",
      " -1.18286099e+03 -5.26445990e+02 -1.32425976e+02 -6.89447133e+02\n",
      "  8.94646925e+02 -2.05039708e+03 -5.18162584e+02  2.24764918e+03\n",
      " -1.05314418e+03 -8.31657861e+02  1.58620958e+02 -9.51882946e+02\n",
      " -1.11436349e+02  1.00125011e+03  0.00000000e+00  1.17366719e+02\n",
      " -1.54794774e+03 -6.71204008e+02  3.48568045e+02  9.88384838e+02\n",
      "  3.75248360e+03  4.79571365e+02  1.68321438e+03 -1.73248667e+02\n",
      "  1.51808552e+02  4.66240282e+01 -4.74320851e+02 -4.08384209e+01\n",
      "  0.00000000e+00 -9.08467133e+02 -1.29457563e+03  5.30771151e+02\n",
      " -4.55047757e+02  5.29129339e+02 -1.62339076e+03  2.73491155e+03\n",
      " -2.79990477e+03 -6.84572939e+03 -6.73418040e+03 -8.06678261e+03\n",
      " -9.52885008e+03 -1.42668702e+02 -1.23504975e+04  4.69185923e+03\n",
      "  9.15544714e+03  3.11947122e+03  4.27174904e+03 -3.73440239e+03\n",
      " -2.39362612e+03 -3.48672286e+02 -3.03563639e+03 -2.77889500e+03\n",
      " -4.24131817e+03  3.47680175e+03  2.14920076e+03  3.52359009e+03\n",
      "  3.65924737e+03  4.49213712e+03  8.93195685e+03  3.81504260e+01\n",
      "  9.24596059e+02 -5.47945776e+01 -1.27005252e+02 -1.12247898e+03\n",
      "  1.05317485e+03  8.91318801e+02  9.86377236e+02 -4.35839450e+02\n",
      " -3.02779890e+02 -0.00000000e+00  1.45364012e+02 -8.12306082e-13\n",
      "  7.63607090e+02  1.50418985e+02  1.69609346e+02 -8.85022079e+02\n",
      " -4.20456948e+01  6.58480660e+03  1.85884470e+02  8.31704931e+01\n",
      " -9.87033436e+01  2.18987107e+02 -1.55409318e+03 -2.23527398e+03\n",
      " -2.53693569e+02 -2.09136732e+03 -1.37288469e+03 -2.84735211e+03\n",
      "  8.74332929e+02 -7.18349038e+02 -7.34614696e+02 -1.52074920e+03\n",
      " -4.69595292e+02 -1.18623002e+03 -9.91908699e+02  5.80933054e+03\n",
      " -1.32884617e+03 -2.50111130e+02 -6.22813171e+02 -2.31016570e+03\n",
      " -4.89527115e+03 -8.92716739e+02 -8.86269539e+02 -3.46847763e+01\n",
      " -1.16771201e+03 -1.93823321e+02 -2.90023552e+02  4.66166716e+01\n",
      " -4.81507212e+04 -6.27297068e+04 -5.21308888e+04 -2.36427249e+03\n",
      "  1.40746348e+02 -3.41629081e+02 -2.37441127e+02  1.58582791e+03\n",
      " -1.39994183e+02  4.02762365e+02  6.99129030e+03 -3.92927941e+03\n",
      " -6.46525592e+02 -1.14223376e+01 -1.39491797e+03 -2.56198970e+03\n",
      "  2.16990087e+03]\n",
      "181528.6053082192\n"
     ]
    },
    {
     "name": "stderr",
     "output_type": "stream",
     "text": [
      "/home/blackswan/anaconda3/lib/python3.11/site-packages/sklearn/linear_model/_coordinate_descent.py:628: ConvergenceWarning: Objective did not converge. You might want to increase the number of iterations, check the scale of the features or consider increasing regularisation. Duality gap: 3.825e+11, tolerance: 7.602e+08\n",
      "  model = cd_fast.enet_coordinate_descent(\n"
     ]
    }
   ],
   "source": [
    "\n",
    "clf = linear_model.Lasso(alpha=0.1)\n",
    "clf.fit(X_train_scaled,y_train)\n",
    "print(clf.coef_)\n",
    "print(clf.intercept_)"
   ],
   "metadata": {
    "collapsed": false,
    "ExecuteTime": {
     "end_time": "2023-12-26T19:25:42.980010617Z",
     "start_time": "2023-12-26T19:25:41.929911440Z"
    }
   },
   "id": "68db10955925ad21"
  },
  {
   "cell_type": "code",
   "execution_count": 136,
   "outputs": [
    {
     "data": {
      "text/plain": "array([-7.58629678e+01, -2.89035158e-13, -5.66395921e+03,  3.34239590e+03,\n        1.26172885e+04,  7.38410742e+03,  5.38553256e+03,  2.67663433e+02,\n        1.65264716e+04,  5.11296122e+03,  9.26060939e+03,  5.92229567e+03,\n        1.13935149e+04,  2.21382263e+04, -5.89732683e+02,  3.11272703e+03,\n        5.07287863e+01, -1.42308827e+03,  1.68173321e+03,  1.49722528e+03,\n       -3.02483302e+03, -4.70605548e+03,  3.30689252e+03,  5.56776407e+03,\n        4.32949231e+03,  5.17321222e+03,  2.61442402e+03, -2.09945782e+03,\n       -1.43773694e+02,  1.11541267e+03,  2.41816690e+03,  8.50007798e+04,\n       -1.50845339e+03, -6.29734425e+02, -6.61447615e+02, -1.30632691e+03,\n        3.43629566e+03,  1.43282126e+03,  1.96636188e+03, -7.67024728e+02,\n       -1.85577403e+03,  5.52823175e-11, -9.94516170e+02, -4.51732661e+02,\n        2.80685510e+02,  1.74871197e+03,  1.01437533e+02, -2.62225569e+02,\n       -2.58088410e+03, -4.80172663e+01, -7.62959023e+02,  1.07428197e+02,\n        1.14316052e+03, -5.66000823e-14,  6.85337474e+02,  2.65598291e+03,\n       -1.18286099e+03, -5.26445990e+02, -1.32425976e+02, -6.89447133e+02,\n        8.94646925e+02, -2.05039708e+03, -5.18162584e+02,  2.24764918e+03,\n       -1.05314418e+03, -8.31657861e+02,  1.58620958e+02, -9.51882946e+02,\n       -1.11436349e+02,  1.00125011e+03,  0.00000000e+00,  1.17366719e+02,\n       -1.54794774e+03, -6.71204008e+02,  3.48568045e+02,  9.88384838e+02,\n        3.75248360e+03,  4.79571365e+02,  1.68321438e+03, -1.73248667e+02,\n        1.51808552e+02,  4.66240282e+01, -4.74320851e+02, -4.08384209e+01,\n        0.00000000e+00, -9.08467133e+02, -1.29457563e+03,  5.30771151e+02,\n       -4.55047757e+02,  5.29129339e+02, -1.62339076e+03,  2.73491155e+03,\n       -2.79990477e+03, -6.84572939e+03, -6.73418040e+03, -8.06678261e+03,\n       -9.52885008e+03, -1.42668702e+02, -1.23504975e+04,  4.69185923e+03,\n        9.15544714e+03,  3.11947122e+03,  4.27174904e+03, -3.73440239e+03,\n       -2.39362612e+03, -3.48672286e+02, -3.03563639e+03, -2.77889500e+03,\n       -4.24131817e+03,  3.47680175e+03,  2.14920076e+03,  3.52359009e+03,\n        3.65924737e+03,  4.49213712e+03,  8.93195685e+03,  3.81504260e+01,\n        9.24596059e+02, -5.47945776e+01, -1.27005252e+02, -1.12247898e+03,\n        1.05317485e+03,  8.91318801e+02,  9.86377236e+02, -4.35839450e+02,\n       -3.02779890e+02, -0.00000000e+00,  1.45364012e+02, -8.12306082e-13,\n        7.63607090e+02,  1.50418985e+02,  1.69609346e+02, -8.85022079e+02,\n       -4.20456948e+01,  6.58480660e+03,  1.85884470e+02,  8.31704931e+01,\n       -9.87033436e+01,  2.18987107e+02, -1.55409318e+03, -2.23527398e+03,\n       -2.53693569e+02, -2.09136732e+03, -1.37288469e+03, -2.84735211e+03,\n        8.74332929e+02, -7.18349038e+02, -7.34614696e+02, -1.52074920e+03,\n       -4.69595292e+02, -1.18623002e+03, -9.91908699e+02,  5.80933054e+03,\n       -1.32884617e+03, -2.50111130e+02, -6.22813171e+02, -2.31016570e+03,\n       -4.89527115e+03, -8.92716739e+02, -8.86269539e+02, -3.46847763e+01,\n       -1.16771201e+03, -1.93823321e+02, -2.90023552e+02,  4.66166716e+01,\n       -4.81507212e+04, -6.27297068e+04, -5.21308888e+04, -2.36427249e+03,\n        1.40746348e+02, -3.41629081e+02, -2.37441127e+02,  1.58582791e+03,\n       -1.39994183e+02,  4.02762365e+02,  6.99129030e+03, -3.92927941e+03,\n       -6.46525592e+02, -1.14223376e+01, -1.39491797e+03, -2.56198970e+03,\n        2.16990087e+03])"
     },
     "execution_count": 136,
     "metadata": {},
     "output_type": "execute_result"
    }
   ],
   "source": [
    "clf.coef_"
   ],
   "metadata": {
    "collapsed": false,
    "ExecuteTime": {
     "end_time": "2023-12-26T19:27:32.010941680Z",
     "start_time": "2023-12-26T19:27:31.617615612Z"
    }
   },
   "id": "78c3ae337443a786"
  },
  {
   "cell_type": "code",
   "execution_count": 137,
   "outputs": [
    {
     "data": {
      "text/plain": "181528.6053082192"
     },
     "execution_count": 137,
     "metadata": {},
     "output_type": "execute_result"
    }
   ],
   "source": [
    "clf.intercept_"
   ],
   "metadata": {
    "collapsed": false,
    "ExecuteTime": {
     "end_time": "2023-12-26T19:28:02.961625993Z",
     "start_time": "2023-12-26T19:28:02.901404084Z"
    }
   },
   "id": "d41251d08e221126"
  },
  {
   "cell_type": "code",
   "execution_count": 135,
   "outputs": [],
   "source": [
    "y_pred = clf.predict(X_test_scaled)"
   ],
   "metadata": {
    "collapsed": false,
    "ExecuteTime": {
     "end_time": "2023-12-26T19:26:46.016029908Z",
     "start_time": "2023-12-26T19:26:45.887602174Z"
    }
   },
   "id": "bb1e888dfd45023d"
  },
  {
   "cell_type": "code",
   "execution_count": 142,
   "outputs": [
    {
     "data": {
      "text/plain": "1.0"
     },
     "execution_count": 142,
     "metadata": {},
     "output_type": "execute_result"
    }
   ],
   "source": [
    "clf.score(X_test_scaled, y_pred, sample_weight=None)"
   ],
   "metadata": {
    "collapsed": false,
    "ExecuteTime": {
     "end_time": "2023-12-26T19:39:11.170155234Z",
     "start_time": "2023-12-26T19:39:10.987172349Z"
    }
   },
   "id": "40bc9c2a197e93c6"
  },
  {
   "cell_type": "code",
   "execution_count": 143,
   "outputs": [
    {
     "name": "stderr",
     "output_type": "stream",
     "text": [
      "/home/blackswan/anaconda3/lib/python3.11/site-packages/sklearn/linear_model/_coordinate_descent.py:628: ConvergenceWarning: Objective did not converge. You might want to increase the number of iterations, check the scale of the features or consider increasing regularisation. Duality gap: 3.825e+11, tolerance: 7.602e+08\n",
      "  model = cd_fast.enet_coordinate_descent(\n"
     ]
    },
    {
     "data": {
      "text/plain": "Lasso(alpha=0.1)",
      "text/html": "<style>#sk-container-id-1 {color: black;}#sk-container-id-1 pre{padding: 0;}#sk-container-id-1 div.sk-toggleable {background-color: white;}#sk-container-id-1 label.sk-toggleable__label {cursor: pointer;display: block;width: 100%;margin-bottom: 0;padding: 0.3em;box-sizing: border-box;text-align: center;}#sk-container-id-1 label.sk-toggleable__label-arrow:before {content: \"▸\";float: left;margin-right: 0.25em;color: #696969;}#sk-container-id-1 label.sk-toggleable__label-arrow:hover:before {color: black;}#sk-container-id-1 div.sk-estimator:hover label.sk-toggleable__label-arrow:before {color: black;}#sk-container-id-1 div.sk-toggleable__content {max-height: 0;max-width: 0;overflow: hidden;text-align: left;background-color: #f0f8ff;}#sk-container-id-1 div.sk-toggleable__content pre {margin: 0.2em;color: black;border-radius: 0.25em;background-color: #f0f8ff;}#sk-container-id-1 input.sk-toggleable__control:checked~div.sk-toggleable__content {max-height: 200px;max-width: 100%;overflow: auto;}#sk-container-id-1 input.sk-toggleable__control:checked~label.sk-toggleable__label-arrow:before {content: \"▾\";}#sk-container-id-1 div.sk-estimator input.sk-toggleable__control:checked~label.sk-toggleable__label {background-color: #d4ebff;}#sk-container-id-1 div.sk-label input.sk-toggleable__control:checked~label.sk-toggleable__label {background-color: #d4ebff;}#sk-container-id-1 input.sk-hidden--visually {border: 0;clip: rect(1px 1px 1px 1px);clip: rect(1px, 1px, 1px, 1px);height: 1px;margin: -1px;overflow: hidden;padding: 0;position: absolute;width: 1px;}#sk-container-id-1 div.sk-estimator {font-family: monospace;background-color: #f0f8ff;border: 1px dotted black;border-radius: 0.25em;box-sizing: border-box;margin-bottom: 0.5em;}#sk-container-id-1 div.sk-estimator:hover {background-color: #d4ebff;}#sk-container-id-1 div.sk-parallel-item::after {content: \"\";width: 100%;border-bottom: 1px solid gray;flex-grow: 1;}#sk-container-id-1 div.sk-label:hover label.sk-toggleable__label {background-color: #d4ebff;}#sk-container-id-1 div.sk-serial::before {content: \"\";position: absolute;border-left: 1px solid gray;box-sizing: border-box;top: 0;bottom: 0;left: 50%;z-index: 0;}#sk-container-id-1 div.sk-serial {display: flex;flex-direction: column;align-items: center;background-color: white;padding-right: 0.2em;padding-left: 0.2em;position: relative;}#sk-container-id-1 div.sk-item {position: relative;z-index: 1;}#sk-container-id-1 div.sk-parallel {display: flex;align-items: stretch;justify-content: center;background-color: white;position: relative;}#sk-container-id-1 div.sk-item::before, #sk-container-id-1 div.sk-parallel-item::before {content: \"\";position: absolute;border-left: 1px solid gray;box-sizing: border-box;top: 0;bottom: 0;left: 50%;z-index: -1;}#sk-container-id-1 div.sk-parallel-item {display: flex;flex-direction: column;z-index: 1;position: relative;background-color: white;}#sk-container-id-1 div.sk-parallel-item:first-child::after {align-self: flex-end;width: 50%;}#sk-container-id-1 div.sk-parallel-item:last-child::after {align-self: flex-start;width: 50%;}#sk-container-id-1 div.sk-parallel-item:only-child::after {width: 0;}#sk-container-id-1 div.sk-dashed-wrapped {border: 1px dashed gray;margin: 0 0.4em 0.5em 0.4em;box-sizing: border-box;padding-bottom: 0.4em;background-color: white;}#sk-container-id-1 div.sk-label label {font-family: monospace;font-weight: bold;display: inline-block;line-height: 1.2em;}#sk-container-id-1 div.sk-label-container {text-align: center;}#sk-container-id-1 div.sk-container {/* jupyter's `normalize.less` sets `[hidden] { display: none; }` but bootstrap.min.css set `[hidden] { display: none !important; }` so we also need the `!important` here to be able to override the default hidden behavior on the sphinx rendered scikit-learn.org. See: https://github.com/scikit-learn/scikit-learn/issues/21755 */display: inline-block !important;position: relative;}#sk-container-id-1 div.sk-text-repr-fallback {display: none;}</style><div id=\"sk-container-id-1\" class=\"sk-top-container\"><div class=\"sk-text-repr-fallback\"><pre>Lasso(alpha=0.1)</pre><b>In a Jupyter environment, please rerun this cell to show the HTML representation or trust the notebook. <br />On GitHub, the HTML representation is unable to render, please try loading this page with nbviewer.org.</b></div><div class=\"sk-container\" hidden><div class=\"sk-item\"><div class=\"sk-estimator sk-toggleable\"><input class=\"sk-toggleable__control sk-hidden--visually\" id=\"sk-estimator-id-1\" type=\"checkbox\" checked><label for=\"sk-estimator-id-1\" class=\"sk-toggleable__label sk-toggleable__label-arrow\">Lasso</label><div class=\"sk-toggleable__content\"><pre>Lasso(alpha=0.1)</pre></div></div></div></div></div>"
     },
     "execution_count": 143,
     "metadata": {},
     "output_type": "execute_result"
    }
   ],
   "source": [
    "clf2= linear_model.Ridge(alpha=0.1)\n",
    "clf.fit(X_train_scaled,y_train)"
   ],
   "metadata": {
    "collapsed": false,
    "ExecuteTime": {
     "end_time": "2023-12-26T19:41:27.741296671Z",
     "start_time": "2023-12-26T19:41:27.146407978Z"
    }
   },
   "id": "fe320708445f650e"
  },
  {
   "cell_type": "markdown",
   "source": [
    "# Resolution par random forest appliqué à la régression TensorFlow/keras"
   ],
   "metadata": {
    "collapsed": false
   },
   "id": "32bbfabdbd1890e9"
  },
  {
   "cell_type": "code",
   "execution_count": null,
   "outputs": [],
   "source": [],
   "metadata": {
    "collapsed": false
   },
   "id": "733c090d78c6e710"
  },
  {
   "cell_type": "markdown",
   "source": [
    "# Resolution linear Regression Pytorch"
   ],
   "metadata": {
    "collapsed": false
   },
   "id": "14b26edbe381abfc"
  },
  {
   "cell_type": "code",
   "execution_count": null,
   "outputs": [],
   "source": [],
   "metadata": {
    "collapsed": false
   },
   "id": "7dfcd09bf025218f"
  },
  {
   "cell_type": "markdown",
   "source": [],
   "metadata": {
    "collapsed": false
   },
   "id": "a1b9356974b3e580"
  },
  {
   "cell_type": "markdown",
   "source": [],
   "metadata": {
    "collapsed": false
   },
   "id": "20503e451d6bea10"
  }
 ],
 "metadata": {
  "kernelspec": {
   "display_name": "Python 3",
   "language": "python",
   "name": "python3"
  },
  "language_info": {
   "codemirror_mode": {
    "name": "ipython",
    "version": 2
   },
   "file_extension": ".py",
   "mimetype": "text/x-python",
   "name": "python",
   "nbconvert_exporter": "python",
   "pygments_lexer": "ipython2",
   "version": "2.7.6"
  }
 },
 "nbformat": 4,
 "nbformat_minor": 5
}
